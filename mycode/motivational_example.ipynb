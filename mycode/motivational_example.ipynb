{
 "cells": [
  {
   "cell_type": "markdown",
   "metadata": {},
   "source": [
    "# Motivational Example\n",
    "\n",
    "This notebook is used to run and analyze a toy example of `WA-v4` as the motivation of proposing MSTCs. More details can be referred to Section 4 of [our TOSEM paper](https://dl.acm.org/doi/abs/10.1145/3736757).\n",
    "\n",
    "**Tips**： \n",
    "+ We should ensure that the current working directory is `.\\mstcs`, due the inclusion of `os.getcwd()` to obtain the absolute path in Jupyter Notebook.\n",
    "+ This notebook is not scalable (for `WA-v4`), and only used for replication and reproduction."
   ]
  },
  {
   "cell_type": "code",
   "execution_count": 1,
   "metadata": {},
   "outputs": [],
   "source": [
    "# Import qiskit-related packages\n",
    "from qiskit import QuantumCircuit \n",
    " \n",
    "# Import basic packages\n",
    "import math\n",
    "import numpy as np\n",
    "\n",
    "# Import packages within our repository\n",
    "import os, sys\n",
    "current_dir = os.getcwd()\n",
    "parent_dir = os.path.dirname(current_dir)\n",
    "sys.path.append(parent_dir)   \n",
    "from mycode.utils import generate_numbers, outputdict2samps, outputdict2probs, OPO_UTest, circuit_execution"
   ]
  },
  {
   "cell_type": "markdown",
   "metadata": {},
   "source": [
    "The following code can examine the test performance of pure-state test cases (PSTCs). Upon covering all the computation basis states (a.k.a. classical states in some papers), only two PSTCs trigger the failures."
   ]
  },
  {
   "cell_type": "code",
   "execution_count": 2,
   "metadata": {},
   "outputs": [
    {
     "name": "stdout",
     "output_type": "stream",
     "text": [
      "quantum_input_ID=0, test_probs=[1. 0. 0. 0.], exp_probs=[1, 0.0, 0.0, 0.0], test_result=pass\n",
      "quantum_input_ID=1, test_probs=[0. 1. 0. 0.], exp_probs=[0.0, 1, 0.0, 0.0], test_result=pass\n",
      "quantum_input_ID=2, test_probs=[0. 1. 0. 0.], exp_probs=[0.0, 1, 0.0, 0.0], test_result=pass\n",
      "quantum_input_ID=3, test_probs=[0. 0. 0. 1.], exp_probs=[0.0, 0.0, 1, 0.0], test_result=fail\n",
      "quantum_input_ID=4, test_probs=[1. 0. 0. 0.], exp_probs=[1, 0.0, 0.0, 0.0], test_result=pass\n",
      "quantum_input_ID=5, test_probs=[0. 1. 0. 0.], exp_probs=[0.0, 1, 0.0, 0.0], test_result=pass\n",
      "quantum_input_ID=6, test_probs=[0. 1. 0. 0.], exp_probs=[0.0, 1, 0.0, 0.0], test_result=pass\n",
      "quantum_input_ID=7, test_probs=[0. 0. 0. 1.], exp_probs=[0.0, 0.0, 1, 0.0], test_result=fail\n"
     ]
    }
   ],
   "source": [
    "from mycode.testing.WeightedAdder.utils.adder_specification import PSTC_specification\n",
    "from mycode.testing.WeightedAdder.programs import WeightedAdder_defect4, WeightedAdder\n",
    "from mycode.testing.WeightedAdder.config import default_shots, candidate_initial_states\n",
    "import csv  \n",
    "\n",
    "# ===================================================\n",
    "# Configuration parameters\n",
    "# ===================================================\n",
    "n = 3\n",
    "weight = [1, 1, 0]\n",
    "\n",
    "initial_states_list = generate_numbers(n, len(candidate_initial_states))\n",
    "pre_time = 0  # Time tracking for state preparation phase\n",
    "\n",
    "# Calculate required number of output qubits (s)\n",
    "if np.sum(weight) == 0:\n",
    "    s = 1\n",
    "else:\n",
    "    s = 1 + math.floor(math.log2(np.sum(weight)))\n",
    "\n",
    "# Initialize quantum circuit instances\n",
    "qc_test = WeightedAdder_defect4(n, weight)  # Defective implementation\n",
    "qc_raw = WeightedAdder(n, weight)           # Reference implementation\n",
    "\n",
    "# Switch to ./data/motivational_examples\n",
    "output_path = os.path.join(parent_dir, \"data\", \"motivational_examples\")\n",
    "os.makedirs(output_path, exist_ok=True)\n",
    "os.chdir(output_path)\n",
    "\n",
    "# Create CSV file and write header\n",
    "csv_filename = \"PSTCs_results_for_motivation.csv\"\n",
    "with open(csv_filename, 'w', newline='') as csvfile:\n",
    "    csv_writer = csv.writer(csvfile)\n",
    "    # Write column headers\n",
    "    csv_writer.writerow(['quantum_input_ID', 'test_probs', 'exp_probs', 'test_results'])\n",
    "    \n",
    "    # Iterate through all possible initial states\n",
    "    for initial_states in initial_states_list:\n",
    "        # Convert binary state to decimal number\n",
    "        number = int(''.join(map(str, initial_states)), 2)\n",
    "        initial_states = initial_states[::-1]  # Reverse for Qiskit's qubit ordering\n",
    "        \n",
    "        # Initialize quantum circuit\n",
    "        qc = QuantumCircuit(qc_test.num_qubits, s)\n",
    "        \n",
    "        # Apply X gates for state preparation\n",
    "        for index, val in enumerate(initial_states):\n",
    "            if candidate_initial_states[val] == 1:\n",
    "                qc.x(index)\n",
    "        \n",
    "        # Append the test circuit and set measurement\n",
    "        qc.append(qc_test, qc.qubits) # type: ignore\n",
    "        qc.measure(qc.qubits[n: n + s], qc.clbits)\n",
    "\n",
    "        # Execute circuit on simulator\n",
    "        dict_counts = circuit_execution(qc, default_shots)\n",
    "        test_probs = outputdict2probs(dict_counts, s)  # Calculate probability distribution\n",
    "        test_samps = outputdict2samps(dict_counts)     # Transfer the test samples\n",
    "\n",
    "        # Generate expected probability distribution\n",
    "        exp_probs = PSTC_specification(s, initial_states, weight)\n",
    "        exp_samps = list(np.random.choice(range(2 ** qc.num_clbits), \n",
    "                         size=default_shots, p=exp_probs))\n",
    "\n",
    "        # Perform statistical hypothesis test\n",
    "        test_result = OPO_UTest(exp_samps, test_samps)\n",
    "        \n",
    "        # Format probabilities for CSV storage\n",
    "        test_probs_str = ';'.join([f\"{p:.6f}\" for p in test_probs])  # Semicolon-separated\n",
    "        exp_probs_str = ';'.join([f\"{p:.6f}\" for p in exp_probs])   # to prevent CSV formatting issues\n",
    "        \n",
    "        # Write results to CSV\n",
    "        csv_writer.writerow([number, test_probs_str, exp_probs_str, test_result])\n",
    "        \n",
    "        # Maintain console output for real-time monitoring\n",
    "        print(\n",
    "            f\"quantum_input_ID={number}, \"\n",
    "            f\"test_probs={test_probs}, \"\n",
    "            f\"exp_probs={exp_probs}, \"\n",
    "            f\"test_result={test_result}\"\n",
    "        )"
   ]
  },
  {
   "cell_type": "markdown",
   "metadata": {},
   "source": [
    "Then, draw the involved quantum circuit diagrams to the path `./data/motivational_examples`. The files `qc_raw.pdf` and `decom1_qc_test.pdf` are the two illustrated in Fig.2. "
   ]
  },
  {
   "cell_type": "code",
   "execution_count": 3,
   "metadata": {},
   "outputs": [],
   "source": [
    "# Draw the quantum circuit diagram\n",
    "import matplotlib.pyplot as plt\n",
    "import  os\n",
    "\n",
    "# Switch to ./data/motivational_examples\n",
    "output_path = os.path.join(parent_dir, \"data\", \"motivational_examples\")\n",
    "os.makedirs(output_path, exist_ok=True)\n",
    "os.chdir(output_path)\n",
    "\n",
    "def circuit_drawing(qc: QuantumCircuit, file_name: str) -> None:\n",
    "    '''  \n",
    "    The argument 'file_name' determines the name the file to be saved.\n",
    "    '''\n",
    "    fig = qc.draw(output='mpl', style='clifford')  \n",
    "    fig.set_size_inches(10, 6)              # type: ignore # Set the figure size\n",
    "    plt.rcParams.update({'font.size': 12})  # Set the front size\n",
    "    # Save as .pdf\n",
    "    fig.savefig('{}.pdf'.format(file_name), bbox_inches='tight', dpi=600) # type: ignore\n",
    "    return\n",
    "\n",
    "# Print quantum circuits\n",
    "decom1_qc_raw = qc_raw.decompose()\n",
    "decom1_qc_test = qc_test.decompose()\n",
    "circuit_drawing(qc_raw, \"qc_raw\")                  # Quantum circuit of the bug-free version\n",
    "circuit_drawing(decom1_qc_raw, \"decom1_qc_raw\")    # Quantum circuit of the bug-free version with one decomposition\n",
    "circuit_drawing(decom1_qc_test, \"decom1_qc_test\")  # Quantum circuit of the buggy version with one decomposition"
   ]
  }
 ],
 "metadata": {
  "kernelspec": {
   "display_name": "Quantum_Computing",
   "language": "python",
   "name": "python3"
  },
  "language_info": {
   "codemirror_mode": {
    "name": "ipython",
    "version": 3
   },
   "file_extension": ".py",
   "mimetype": "text/x-python",
   "name": "python",
   "nbconvert_exporter": "python",
   "pygments_lexer": "ipython3",
   "version": "3.11.0"
  }
 },
 "nbformat": 4,
 "nbformat_minor": 2
}
